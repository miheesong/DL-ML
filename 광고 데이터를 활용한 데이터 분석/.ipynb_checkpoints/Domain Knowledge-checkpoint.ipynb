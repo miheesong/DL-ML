{
 "cells": [
  {
   "cell_type": "markdown",
   "id": "d0862e03",
   "metadata": {},
   "source": [
    "### 1.광고 성과지표"
   ]
  },
  {
   "cell_type": "markdown",
   "id": "adc5b657",
   "metadata": {},
   "source": [
    "- CTR(Click Through Rate) = 클릭수 / 노출수 * 100\n",
    "\n",
    "- CPM(Cost Per Mile) = 광고비용 / 노출수 * 1000   -> 1000 번의 노출 당 광고 비용\n",
    "\n",
    "- CPC(Cost Per Click) = 광고비용 / 클릭수\n",
    "\n",
    "- CPA(Cost Per Action) = 광고비용 / 구매수"
   ]
  },
  {
   "cell_type": "code",
   "execution_count": 2,
   "id": "3267e297",
   "metadata": {},
   "outputs": [],
   "source": [
    "imp=10000 # 노출수\n",
    "clk=100\n",
    "conv=10 # 구매수\n",
    "cost=100000 # 총 광고비"
   ]
  },
  {
   "cell_type": "code",
   "execution_count": 3,
   "id": "ff64b3e1",
   "metadata": {},
   "outputs": [],
   "source": [
    "# ctr\n",
    "ctr = clk/imp * 100"
   ]
  },
  {
   "cell_type": "code",
   "execution_count": 4,
   "id": "84d4461f",
   "metadata": {},
   "outputs": [
    {
     "data": {
      "text/plain": [
       "1.0"
      ]
     },
     "execution_count": 4,
     "metadata": {},
     "output_type": "execute_result"
    }
   ],
   "source": [
    "ctr"
   ]
  },
  {
   "cell_type": "code",
   "execution_count": 5,
   "id": "fa5eadc8",
   "metadata": {},
   "outputs": [],
   "source": [
    "# cpm\n",
    "cpm = cost / imp * 1000"
   ]
  },
  {
   "cell_type": "code",
   "execution_count": 6,
   "id": "2fc5ca79",
   "metadata": {},
   "outputs": [
    {
     "data": {
      "text/plain": [
       "10000.0"
      ]
     },
     "execution_count": 6,
     "metadata": {},
     "output_type": "execute_result"
    }
   ],
   "source": [
    "cpm"
   ]
  },
  {
   "cell_type": "code",
   "execution_count": 7,
   "id": "319ac18e",
   "metadata": {},
   "outputs": [],
   "source": [
    "# cpc\n",
    "cpc = cost / clk"
   ]
  },
  {
   "cell_type": "code",
   "execution_count": 8,
   "id": "9f55d82b",
   "metadata": {},
   "outputs": [
    {
     "data": {
      "text/plain": [
       "1000.0"
      ]
     },
     "execution_count": 8,
     "metadata": {},
     "output_type": "execute_result"
    }
   ],
   "source": [
    "cpc"
   ]
  },
  {
   "cell_type": "code",
   "execution_count": 9,
   "id": "08dd013c",
   "metadata": {},
   "outputs": [],
   "source": [
    "# cpa\n",
    "cpa = cost / conv"
   ]
  },
  {
   "cell_type": "code",
   "execution_count": 10,
   "id": "2d14e1cb",
   "metadata": {},
   "outputs": [
    {
     "data": {
      "text/plain": [
       "10000.0"
      ]
     },
     "execution_count": 10,
     "metadata": {},
     "output_type": "execute_result"
    }
   ],
   "source": [
    "cpa"
   ]
  }
 ],
 "metadata": {
  "kernelspec": {
   "display_name": "Python 3.6.7 64-bit ('base')",
   "language": "python",
   "name": "python36764bitbasea4c94ee8257a45f4b60dc3b054c27b29"
  },
  "language_info": {
   "codemirror_mode": {
    "name": "ipython",
    "version": 3
   },
   "file_extension": ".py",
   "mimetype": "text/x-python",
   "name": "python",
   "nbconvert_exporter": "python",
   "pygments_lexer": "ipython3",
   "version": "3.8.8"
  }
 },
 "nbformat": 4,
 "nbformat_minor": 5
}
