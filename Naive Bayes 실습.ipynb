{
 "cells": [
  {
   "cell_type": "markdown",
   "id": "bc0c848a",
   "metadata": {},
   "source": [
    "## 1. Gaussian Naive Bayes"
   ]
  },
  {
   "cell_type": "markdown",
   "id": "b8a19d86",
   "metadata": {},
   "source": [
    "- 데이터 모듈 불러오기"
   ]
  },
  {
   "cell_type": "code",
   "execution_count": 1,
   "id": "0134047a",
   "metadata": {},
   "outputs": [],
   "source": [
    "from sklearn import datasets\n",
    "from sklearn.naive_bayes import GaussianNB"
   ]
  },
  {
   "cell_type": "code",
   "execution_count": 4,
   "id": "9e723bb0",
   "metadata": {},
   "outputs": [],
   "source": [
    "import pandas as pd"
   ]
  },
  {
   "cell_type": "code",
   "execution_count": 5,
   "id": "25d59676",
   "metadata": {},
   "outputs": [],
   "source": [
    "iris = datasets.load_iris()\n",
    "df_X = pd.DataFrame(iris.data)\n",
    "df_Y = pd.DataFrame(iris.target)"
   ]
  },
  {
   "cell_type": "code",
   "execution_count": 6,
   "id": "447d327d",
   "metadata": {},
   "outputs": [
    {
     "data": {
      "text/html": [
       "<div>\n",
       "<style scoped>\n",
       "    .dataframe tbody tr th:only-of-type {\n",
       "        vertical-align: middle;\n",
       "    }\n",
       "\n",
       "    .dataframe tbody tr th {\n",
       "        vertical-align: top;\n",
       "    }\n",
       "\n",
       "    .dataframe thead th {\n",
       "        text-align: right;\n",
       "    }\n",
       "</style>\n",
       "<table border=\"1\" class=\"dataframe\">\n",
       "  <thead>\n",
       "    <tr style=\"text-align: right;\">\n",
       "      <th></th>\n",
       "      <th>0</th>\n",
       "      <th>1</th>\n",
       "      <th>2</th>\n",
       "      <th>3</th>\n",
       "    </tr>\n",
       "  </thead>\n",
       "  <tbody>\n",
       "    <tr>\n",
       "      <th>0</th>\n",
       "      <td>5.1</td>\n",
       "      <td>3.5</td>\n",
       "      <td>1.4</td>\n",
       "      <td>0.2</td>\n",
       "    </tr>\n",
       "    <tr>\n",
       "      <th>1</th>\n",
       "      <td>4.9</td>\n",
       "      <td>3.0</td>\n",
       "      <td>1.4</td>\n",
       "      <td>0.2</td>\n",
       "    </tr>\n",
       "    <tr>\n",
       "      <th>2</th>\n",
       "      <td>4.7</td>\n",
       "      <td>3.2</td>\n",
       "      <td>1.3</td>\n",
       "      <td>0.2</td>\n",
       "    </tr>\n",
       "    <tr>\n",
       "      <th>3</th>\n",
       "      <td>4.6</td>\n",
       "      <td>3.1</td>\n",
       "      <td>1.5</td>\n",
       "      <td>0.2</td>\n",
       "    </tr>\n",
       "    <tr>\n",
       "      <th>4</th>\n",
       "      <td>5.0</td>\n",
       "      <td>3.6</td>\n",
       "      <td>1.4</td>\n",
       "      <td>0.2</td>\n",
       "    </tr>\n",
       "  </tbody>\n",
       "</table>\n",
       "</div>"
      ],
      "text/plain": [
       "     0    1    2    3\n",
       "0  5.1  3.5  1.4  0.2\n",
       "1  4.9  3.0  1.4  0.2\n",
       "2  4.7  3.2  1.3  0.2\n",
       "3  4.6  3.1  1.5  0.2\n",
       "4  5.0  3.6  1.4  0.2"
      ]
     },
     "execution_count": 6,
     "metadata": {},
     "output_type": "execute_result"
    }
   ],
   "source": [
    "df_X.head()"
   ]
  },
  {
   "cell_type": "code",
   "execution_count": 7,
   "id": "7f60dc99",
   "metadata": {},
   "outputs": [
    {
     "data": {
      "text/html": [
       "<div>\n",
       "<style scoped>\n",
       "    .dataframe tbody tr th:only-of-type {\n",
       "        vertical-align: middle;\n",
       "    }\n",
       "\n",
       "    .dataframe tbody tr th {\n",
       "        vertical-align: top;\n",
       "    }\n",
       "\n",
       "    .dataframe thead th {\n",
       "        text-align: right;\n",
       "    }\n",
       "</style>\n",
       "<table border=\"1\" class=\"dataframe\">\n",
       "  <thead>\n",
       "    <tr style=\"text-align: right;\">\n",
       "      <th></th>\n",
       "      <th>0</th>\n",
       "    </tr>\n",
       "  </thead>\n",
       "  <tbody>\n",
       "    <tr>\n",
       "      <th>0</th>\n",
       "      <td>0</td>\n",
       "    </tr>\n",
       "    <tr>\n",
       "      <th>1</th>\n",
       "      <td>0</td>\n",
       "    </tr>\n",
       "    <tr>\n",
       "      <th>2</th>\n",
       "      <td>0</td>\n",
       "    </tr>\n",
       "    <tr>\n",
       "      <th>3</th>\n",
       "      <td>0</td>\n",
       "    </tr>\n",
       "    <tr>\n",
       "      <th>4</th>\n",
       "      <td>0</td>\n",
       "    </tr>\n",
       "  </tbody>\n",
       "</table>\n",
       "</div>"
      ],
      "text/plain": [
       "   0\n",
       "0  0\n",
       "1  0\n",
       "2  0\n",
       "3  0\n",
       "4  0"
      ]
     },
     "execution_count": 7,
     "metadata": {},
     "output_type": "execute_result"
    }
   ],
   "source": [
    "df_Y.head()"
   ]
  },
  {
   "cell_type": "markdown",
   "id": "d2085b68",
   "metadata": {},
   "source": [
    "- 모델 피팅"
   ]
  },
  {
   "cell_type": "code",
   "execution_count": 8,
   "id": "8f3df315",
   "metadata": {},
   "outputs": [],
   "source": [
    "gnb = GaussianNB()\n",
    "fitted = gnb.fit(iris.data, iris.target)\n",
    "y_pred = fitted.predict(iris.data)"
   ]
  },
  {
   "cell_type": "code",
   "execution_count": 9,
   "id": "9fbf8510",
   "metadata": {},
   "outputs": [
    {
     "data": {
      "text/plain": [
       "array([[1.00000000e+000, 1.51480769e-017, 2.34820051e-025],\n",
       "       [1.00000000e+000, 2.63876217e-018, 2.79566024e-025],\n",
       "       [7.27347795e-102, 9.45169639e-001, 5.48303606e-002],\n",
       "       [3.23245181e-254, 6.35381031e-011, 1.00000000e+000]])"
      ]
     },
     "execution_count": 9,
     "metadata": {},
     "output_type": "execute_result"
    }
   ],
   "source": [
    "fitted.predict_proba(iris.data)[[1,48,51,100]]"
   ]
  },
  {
   "cell_type": "code",
   "execution_count": 10,
   "id": "72c797fa",
   "metadata": {},
   "outputs": [
    {
     "data": {
      "text/plain": [
       "array([0, 0, 1, 2])"
      ]
     },
     "execution_count": 10,
     "metadata": {},
     "output_type": "execute_result"
    }
   ],
   "source": [
    "fitted.predict(iris.data)[[1,48,51,100]]"
   ]
  },
  {
   "cell_type": "markdown",
   "id": "e1dbaaf5",
   "metadata": {},
   "source": [
    "- Confusion matrix 구하기"
   ]
  },
  {
   "cell_type": "code",
   "execution_count": 11,
   "id": "0fb2e2f4",
   "metadata": {},
   "outputs": [],
   "source": [
    "from sklearn.metrics import confusion_matrix"
   ]
  },
  {
   "cell_type": "code",
   "execution_count": 12,
   "id": "ab384263",
   "metadata": {},
   "outputs": [
    {
     "data": {
      "text/plain": [
       "array([[50,  0,  0],\n",
       "       [ 0, 47,  3],\n",
       "       [ 0,  3, 47]], dtype=int64)"
      ]
     },
     "execution_count": 12,
     "metadata": {},
     "output_type": "execute_result"
    }
   ],
   "source": [
    "confusion_matrix(iris.target, y_pred)"
   ]
  },
  {
   "cell_type": "markdown",
   "id": "97c29fe0",
   "metadata": {},
   "source": [
    "- Prior 설정하기"
   ]
  },
  {
   "cell_type": "code",
   "execution_count": 14,
   "id": "77d8b189",
   "metadata": {},
   "outputs": [
    {
     "data": {
      "text/plain": [
       "array([[50,  0,  0],\n",
       "       [ 0, 33, 17],\n",
       "       [ 0,  0, 50]], dtype=int64)"
      ]
     },
     "execution_count": 14,
     "metadata": {},
     "output_type": "execute_result"
    }
   ],
   "source": [
    "gnb2 = GaussianNB(priors=[1/100,1/100,98/100])  # 3번째 범주에 출현확률을 높여줌\n",
    "fitted2 = gnb2.fit(iris.data, iris.target)\n",
    "y_pred2 = fitted2.predict(iris.data)\n",
    "confusion_matrix(iris.target, y_pred2)"
   ]
  },
  {
   "cell_type": "code",
   "execution_count": 15,
   "id": "78a4e385",
   "metadata": {},
   "outputs": [
    {
     "data": {
      "text/plain": [
       "array([[50,  0,  0],\n",
       "       [ 0, 50,  0],\n",
       "       [ 0, 14, 36]], dtype=int64)"
      ]
     },
     "execution_count": 15,
     "metadata": {},
     "output_type": "execute_result"
    }
   ],
   "source": [
    "gnb2 = GaussianNB(priors=[1/100,98/100,1/100])\n",
    "fitted2 = gnb2.fit(iris.data, iris.target)\n",
    "y_pred2 = fitted2.predict(iris.data)\n",
    "confusion_matrix(iris.target, y_pred2)"
   ]
  },
  {
   "cell_type": "markdown",
   "id": "6d9b48fe",
   "metadata": {},
   "source": [
    "## 2. Multinomial naive bayes"
   ]
  },
  {
   "cell_type": "markdown",
   "id": "d5bc7296",
   "metadata": {},
   "source": [
    "- 모듈 불러오기 및 데이터 생성"
   ]
  },
  {
   "cell_type": "code",
   "execution_count": 17,
   "id": "d37853aa",
   "metadata": {},
   "outputs": [],
   "source": [
    "from sklearn.naive_bayes import MultinomialNB"
   ]
  },
  {
   "cell_type": "code",
   "execution_count": 20,
   "id": "d15e1aa6",
   "metadata": {},
   "outputs": [],
   "source": [
    "import numpy as np"
   ]
  },
  {
   "cell_type": "code",
   "execution_count": 22,
   "id": "6c55e0f2",
   "metadata": {},
   "outputs": [],
   "source": [
    "X = np.random.randint(5, size=(6,100))\n",
    "y = np.array([1,2,3,4,5,6])"
   ]
  },
  {
   "cell_type": "code",
   "execution_count": 23,
   "id": "709ba707",
   "metadata": {},
   "outputs": [
    {
     "data": {
      "text/plain": [
       "array([[1, 1, 1, 2, 2, 0, 1, 3, 2, 2, 0, 2, 2, 4, 0, 4, 2, 1, 1, 0, 4, 2,\n",
       "        0, 2, 2, 4, 0, 4, 3, 3, 1, 3, 2, 4, 4, 4, 4, 4, 3, 2, 3, 3, 4, 2,\n",
       "        2, 2, 2, 0, 1, 2, 0, 2, 2, 3, 3, 3, 3, 2, 1, 2, 2, 1, 2, 0, 3, 3,\n",
       "        1, 2, 4, 2, 1, 3, 1, 4, 1, 3, 2, 1, 3, 0, 4, 2, 3, 3, 0, 2, 0, 1,\n",
       "        1, 0, 4, 1, 1, 2, 2, 4, 2, 4, 1, 4],\n",
       "       [0, 3, 1, 2, 3, 2, 2, 3, 3, 3, 4, 3, 1, 3, 3, 4, 2, 0, 2, 1, 1, 1,\n",
       "        1, 0, 1, 0, 0, 1, 2, 3, 3, 0, 2, 3, 3, 0, 0, 1, 0, 2, 0, 1, 3, 1,\n",
       "        4, 0, 0, 2, 3, 3, 1, 2, 1, 1, 3, 1, 4, 4, 0, 4, 2, 3, 4, 3, 4, 0,\n",
       "        0, 3, 3, 4, 4, 3, 2, 3, 2, 1, 4, 3, 3, 0, 3, 4, 2, 4, 0, 2, 2, 1,\n",
       "        1, 3, 3, 3, 0, 4, 4, 3, 3, 1, 0, 0],\n",
       "       [2, 2, 2, 3, 4, 3, 1, 2, 0, 3, 4, 0, 2, 2, 0, 0, 2, 2, 3, 0, 1, 1,\n",
       "        4, 1, 2, 0, 0, 3, 3, 3, 1, 1, 2, 1, 0, 2, 3, 3, 1, 3, 1, 3, 4, 4,\n",
       "        4, 1, 4, 4, 4, 0, 0, 3, 2, 0, 4, 3, 3, 0, 1, 2, 3, 4, 0, 3, 3, 1,\n",
       "        0, 3, 2, 0, 1, 1, 3, 2, 1, 0, 1, 4, 2, 1, 2, 3, 2, 1, 0, 2, 1, 4,\n",
       "        3, 3, 0, 0, 0, 4, 1, 2, 1, 1, 4, 4],\n",
       "       [2, 1, 0, 1, 2, 0, 4, 3, 4, 4, 0, 3, 3, 4, 1, 0, 0, 3, 2, 3, 2, 0,\n",
       "        2, 1, 2, 2, 3, 2, 0, 4, 1, 3, 4, 3, 4, 2, 0, 4, 2, 1, 4, 4, 3, 1,\n",
       "        4, 2, 0, 4, 4, 0, 4, 4, 2, 4, 1, 3, 0, 3, 2, 1, 2, 4, 1, 4, 2, 3,\n",
       "        0, 4, 1, 3, 2, 4, 0, 3, 0, 1, 2, 0, 1, 3, 3, 0, 0, 0, 1, 3, 1, 0,\n",
       "        2, 1, 2, 2, 3, 3, 0, 2, 0, 0, 1, 1],\n",
       "       [0, 4, 1, 1, 0, 0, 4, 1, 1, 2, 1, 2, 2, 0, 0, 4, 1, 1, 0, 3, 4, 2,\n",
       "        0, 4, 1, 4, 3, 0, 1, 0, 0, 0, 4, 0, 0, 2, 4, 2, 2, 2, 3, 2, 2, 2,\n",
       "        2, 2, 3, 2, 0, 1, 1, 0, 3, 0, 4, 3, 2, 0, 4, 0, 1, 2, 3, 4, 2, 2,\n",
       "        3, 0, 3, 1, 2, 4, 3, 0, 4, 1, 1, 1, 4, 3, 1, 4, 4, 1, 2, 3, 3, 2,\n",
       "        0, 4, 2, 3, 2, 3, 0, 4, 2, 2, 3, 2],\n",
       "       [4, 1, 1, 4, 4, 4, 4, 3, 0, 2, 1, 4, 4, 0, 4, 4, 4, 2, 3, 0, 0, 1,\n",
       "        2, 4, 4, 2, 1, 4, 4, 3, 3, 3, 3, 4, 4, 4, 0, 1, 3, 0, 1, 4, 4, 4,\n",
       "        3, 1, 2, 2, 1, 1, 3, 2, 4, 0, 1, 0, 0, 1, 0, 0, 4, 3, 0, 0, 2, 3,\n",
       "        3, 3, 4, 3, 0, 4, 3, 3, 3, 1, 3, 0, 2, 1, 3, 2, 0, 3, 1, 4, 2, 0,\n",
       "        4, 4, 1, 1, 2, 4, 3, 4, 3, 1, 2, 2]])"
      ]
     },
     "execution_count": 23,
     "metadata": {},
     "output_type": "execute_result"
    }
   ],
   "source": [
    "X"
   ]
  },
  {
   "cell_type": "code",
   "execution_count": 24,
   "id": "36d3647d",
   "metadata": {},
   "outputs": [
    {
     "data": {
      "text/plain": [
       "array([1, 2, 3, 4, 5, 6])"
      ]
     },
     "execution_count": 24,
     "metadata": {},
     "output_type": "execute_result"
    }
   ],
   "source": [
    "y"
   ]
  },
  {
   "cell_type": "markdown",
   "id": "cbede778",
   "metadata": {},
   "source": [
    "- Multinomial naive bayes 모델 생성"
   ]
  },
  {
   "cell_type": "code",
   "execution_count": 25,
   "id": "75342e5c",
   "metadata": {},
   "outputs": [
    {
     "data": {
      "text/plain": [
       "MultinomialNB()"
      ]
     },
     "execution_count": 25,
     "metadata": {},
     "output_type": "execute_result"
    }
   ],
   "source": [
    "clf = MultinomialNB()\n",
    "clf.fit(X,y)"
   ]
  },
  {
   "cell_type": "code",
   "execution_count": 26,
   "id": "870e0617",
   "metadata": {},
   "outputs": [
    {
     "name": "stdout",
     "output_type": "stream",
     "text": [
      "[3]\n"
     ]
    }
   ],
   "source": [
    "print(clf.predict(X[2:3]))"
   ]
  },
  {
   "cell_type": "code",
   "execution_count": 28,
   "id": "c07b24ee",
   "metadata": {},
   "outputs": [
    {
     "data": {
      "text/plain": [
       "array([[9.09821742e-31, 5.39248444e-29, 1.00000000e+00, 7.27491872e-36,\n",
       "        3.51595552e-35, 4.15667391e-30]])"
      ]
     },
     "execution_count": 28,
     "metadata": {},
     "output_type": "execute_result"
    }
   ],
   "source": [
    "clf.predict_proba(X[2:3])"
   ]
  },
  {
   "cell_type": "markdown",
   "id": "1840d5f2",
   "metadata": {},
   "source": [
    "- prior 변경해보기"
   ]
  },
  {
   "cell_type": "code",
   "execution_count": 35,
   "id": "288430f4",
   "metadata": {},
   "outputs": [
    {
     "data": {
      "text/plain": [
       "MultinomialNB(class_prior=[0.1, 0.5, 0.1, 0.1, 0.1, 0.1])"
      ]
     },
     "execution_count": 35,
     "metadata": {},
     "output_type": "execute_result"
    }
   ],
   "source": [
    "clf2 = MultinomialNB(class_prior=[0.1,0.5,0.1,0.1,0.1,0.1])\n",
    "clf2.fit(X,y)"
   ]
  },
  {
   "cell_type": "code",
   "execution_count": 36,
   "id": "835aab6c",
   "metadata": {},
   "outputs": [
    {
     "data": {
      "text/plain": [
       "array([[9.09821742e-31, 2.69624222e-28, 1.00000000e+00, 7.27491872e-36,\n",
       "        3.51595552e-35, 4.15667391e-30]])"
      ]
     },
     "execution_count": 36,
     "metadata": {},
     "output_type": "execute_result"
    }
   ],
   "source": [
    "clf2.predict_proba(X[2:3])"
   ]
  },
  {
   "cell_type": "code",
   "execution_count": null,
   "id": "164e4632",
   "metadata": {},
   "outputs": [],
   "source": []
  }
 ],
 "metadata": {
  "kernelspec": {
   "display_name": "Python 3.6.7 64-bit ('base')",
   "language": "python",
   "name": "python36764bitbasea4c94ee8257a45f4b60dc3b054c27b29"
  },
  "language_info": {
   "codemirror_mode": {
    "name": "ipython",
    "version": 3
   },
   "file_extension": ".py",
   "mimetype": "text/x-python",
   "name": "python",
   "nbconvert_exporter": "python",
   "pygments_lexer": "ipython3",
   "version": "3.8.8"
  }
 },
 "nbformat": 4,
 "nbformat_minor": 5
}
